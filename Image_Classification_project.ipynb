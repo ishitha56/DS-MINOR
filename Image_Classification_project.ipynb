{
  "nbformat": 4,
  "nbformat_minor": 0,
  "metadata": {
    "colab": {
      "name": "Image Classification project.ipynb",
      "provenance": [],
      "collapsed_sections": [],
      "include_colab_link": true
    },
    "kernelspec": {
      "name": "python3",
      "display_name": "Python 3"
    },
    "language_info": {
      "name": "python"
    }
  },
  "cells": [
    {
      "cell_type": "markdown",
      "metadata": {
        "id": "view-in-github",
        "colab_type": "text"
      },
      "source": [
        "<a href=\"https://colab.research.google.com/github/ishitha56/DS-MINOR/blob/main/Image_Classification_project.ipynb\" target=\"_parent\"><img src=\"https://colab.research.google.com/assets/colab-badge.svg\" alt=\"Open In Colab\"/></a>"
      ]
    },
    {
      "cell_type": "code",
      "metadata": {
        "colab": {
          "base_uri": "https://localhost:8080/"
        },
        "id": "muuV-I0sZyqk",
        "outputId": "efff9292-814e-491b-88fc-f9e805f70e45"
      },
      "source": [
        "!pip install ipython-autotime\n",
        "%load_ext autotime"
      ],
      "execution_count": null,
      "outputs": [
        {
          "output_type": "stream",
          "text": [
            "Collecting ipython-autotime\n",
            "  Downloading https://files.pythonhosted.org/packages/b4/c9/b413a24f759641bc27ef98c144b590023c8038dfb8a3f09e713e9dff12c1/ipython_autotime-0.3.1-py2.py3-none-any.whl\n",
            "Requirement already satisfied: ipython in /usr/local/lib/python3.7/dist-packages (from ipython-autotime) (5.5.0)\n",
            "Requirement already satisfied: simplegeneric>0.8 in /usr/local/lib/python3.7/dist-packages (from ipython->ipython-autotime) (0.8.1)\n",
            "Requirement already satisfied: traitlets>=4.2 in /usr/local/lib/python3.7/dist-packages (from ipython->ipython-autotime) (5.0.5)\n",
            "Requirement already satisfied: setuptools>=18.5 in /usr/local/lib/python3.7/dist-packages (from ipython->ipython-autotime) (57.0.0)\n",
            "Requirement already satisfied: pickleshare in /usr/local/lib/python3.7/dist-packages (from ipython->ipython-autotime) (0.7.5)\n",
            "Requirement already satisfied: decorator in /usr/local/lib/python3.7/dist-packages (from ipython->ipython-autotime) (4.4.2)\n",
            "Requirement already satisfied: prompt-toolkit<2.0.0,>=1.0.4 in /usr/local/lib/python3.7/dist-packages (from ipython->ipython-autotime) (1.0.18)\n",
            "Requirement already satisfied: pygments in /usr/local/lib/python3.7/dist-packages (from ipython->ipython-autotime) (2.6.1)\n",
            "Requirement already satisfied: pexpect; sys_platform != \"win32\" in /usr/local/lib/python3.7/dist-packages (from ipython->ipython-autotime) (4.8.0)\n",
            "Requirement already satisfied: ipython-genutils in /usr/local/lib/python3.7/dist-packages (from traitlets>=4.2->ipython->ipython-autotime) (0.2.0)\n",
            "Requirement already satisfied: wcwidth in /usr/local/lib/python3.7/dist-packages (from prompt-toolkit<2.0.0,>=1.0.4->ipython->ipython-autotime) (0.2.5)\n",
            "Requirement already satisfied: six>=1.9.0 in /usr/local/lib/python3.7/dist-packages (from prompt-toolkit<2.0.0,>=1.0.4->ipython->ipython-autotime) (1.15.0)\n",
            "Requirement already satisfied: ptyprocess>=0.5 in /usr/local/lib/python3.7/dist-packages (from pexpect; sys_platform != \"win32\"->ipython->ipython-autotime) (0.7.0)\n",
            "Installing collected packages: ipython-autotime\n",
            "Successfully installed ipython-autotime-0.3.1\n",
            "time: 2.05 ms (started: 2021-06-23 14:13:20 +00:00)\n"
          ],
          "name": "stdout"
        }
      ]
    },
    {
      "cell_type": "code",
      "metadata": {
        "colab": {
          "base_uri": "https://localhost:8080/"
        },
        "id": "6NdTVuF9OEwR",
        "outputId": "1d0e28f3-72ac-485c-b761-d0f2a05d4b08"
      },
      "source": [
        "!pip install bing-image-downloader\n"
      ],
      "execution_count": null,
      "outputs": [
        {
          "output_type": "stream",
          "text": [
            "Collecting bing-image-downloader\n",
            "  Downloading https://files.pythonhosted.org/packages/c2/04/1872a689a30036aa0b81ac9fca124a7413cad71fdab714f727cf1a34b671/bing_image_downloader-1.1.1-py3-none-any.whl\n",
            "Installing collected packages: bing-image-downloader\n",
            "Successfully installed bing-image-downloader-1.1.1\n",
            "time: 2.94 s (started: 2021-06-23 14:14:31 +00:00)\n"
          ],
          "name": "stdout"
        }
      ]
    },
    {
      "cell_type": "code",
      "metadata": {
        "colab": {
          "base_uri": "https://localhost:8080/"
        },
        "id": "CB_iEvIiXEII",
        "outputId": "7361fedc-2fda-4c81-ab2b-743a8224c269"
      },
      "source": [
        "!mkdir images"
      ],
      "execution_count": null,
      "outputs": [
        {
          "output_type": "stream",
          "text": [
            "time: 115 ms (started: 2021-06-23 14:14:54 +00:00)\n"
          ],
          "name": "stdout"
        }
      ]
    },
    {
      "cell_type": "code",
      "metadata": {
        "colab": {
          "base_uri": "https://localhost:8080/"
        },
        "id": "OahKmkP-XQsz",
        "outputId": "664a5798-762e-45db-bc92-99b6efbf8d9e"
      },
      "source": [
        "from bing_image_downloader import downloader\n",
        "downloader.download(\"pretty roses\",limit=30,output_dir='images',adult_filter_off=True)"
      ],
      "execution_count": null,
      "outputs": [
        {
          "output_type": "stream",
          "text": [
            "[%] Downloading Images to /content/images/pretty roses\n",
            "\n",
            "\n",
            "[!!]Indexing page: 1\n",
            "\n",
            "[%] Indexed 30 Images on Page 1.\n",
            "\n",
            "===============================================\n",
            "\n",
            "[%] Downloading Image #1 from https://i.pinimg.com/originals/43/75/5c/43755cc23d594b0fa00fed74f6d30839.jpg\n",
            "[%] File Downloaded !\n",
            "\n",
            "[%] Downloading Image #2 from https://i.pinimg.com/originals/57/cc/e6/57cce6707045087027e364298eebbc43.jpg\n",
            "[%] File Downloaded !\n",
            "\n",
            "[%] Downloading Image #3 from https://i.pinimg.com/originals/35/fe/ed/35feed534a62d8ca6546523e0dc8c5a4.jpg\n",
            "[%] File Downloaded !\n",
            "\n",
            "[%] Downloading Image #4 from https://i.pinimg.com/originals/5c/59/90/5c59900beafe20d59e67fb6c40eb43c4.jpg\n",
            "[%] File Downloaded !\n",
            "\n",
            "[%] Downloading Image #5 from https://i.pinimg.com/originals/c9/db/aa/c9dbaaa20b9e9a59bde7077af8daf3f6.jpg\n",
            "[%] File Downloaded !\n",
            "\n",
            "[%] Downloading Image #6 from https://i.pinimg.com/originals/45/36/3a/45363a8bbd625d373cf29907e5a6fa6e.jpg\n",
            "[%] File Downloaded !\n",
            "\n",
            "[%] Downloading Image #7 from https://i.pinimg.com/originals/4f/cb/9b/4fcb9ba2f1b18df905f66cb47133ad72.jpg\n",
            "[%] File Downloaded !\n",
            "\n",
            "[%] Downloading Image #8 from https://i.pinimg.com/736x/6b/1f/c5/6b1fc59c13aa380bb9e59d09be053ab9--dream-come-true-secret-gardens.jpg\n",
            "[%] File Downloaded !\n",
            "\n",
            "[%] Downloading Image #9 from https://i.pinimg.com/originals/a6/bb/9e/a6bb9e6be848e73e3650b5b7bfd30218.jpg\n",
            "[%] File Downloaded !\n",
            "\n",
            "[%] Downloading Image #10 from https://i.pinimg.com/originals/2b/5a/1a/2b5a1aeaab2eaa521b965900ec41e5dd.jpg\n",
            "[%] File Downloaded !\n",
            "\n",
            "[%] Downloading Image #11 from https://i.pinimg.com/originals/2e/5b/dd/2e5bddd2381cf058c3b39e37f6a5606d.jpg\n",
            "[%] File Downloaded !\n",
            "\n",
            "[%] Downloading Image #12 from https://i.pinimg.com/originals/ba/24/d8/ba24d84dccd54d9174cc09710bee032a.jpg\n",
            "[%] File Downloaded !\n",
            "\n",
            "[%] Downloading Image #13 from https://i.pinimg.com/736x/35/4a/ed/354aed9e9a761e2115f7597672b3cad2--dream-come-true-rose-bush.jpg\n",
            "[%] File Downloaded !\n",
            "\n",
            "[%] Downloading Image #14 from https://i.pinimg.com/originals/72/b6/35/72b6356158b067cff017c83a1a60cef1.jpg\n",
            "[%] File Downloaded !\n",
            "\n",
            "[%] Downloading Image #15 from https://i.pinimg.com/originals/c3/53/f2/c353f26a042ef9686e2e0a1bc21789f1.jpg\n",
            "[%] File Downloaded !\n",
            "\n",
            "[%] Downloading Image #16 from https://i.pinimg.com/originals/5d/19/89/5d1989ebbe215d5bae5d3fcdc00c88a9.jpg\n",
            "[%] File Downloaded !\n",
            "\n",
            "[%] Downloading Image #17 from https://i.pinimg.com/originals/00/85/44/008544146b29ac48d4d5d17b7f13a54c.jpg\n",
            "[%] File Downloaded !\n",
            "\n",
            "[%] Downloading Image #18 from https://i.pinimg.com/originals/f8/0e/62/f80e625bd512160e415714c9d1ec58c2.jpg\n",
            "[%] File Downloaded !\n",
            "\n",
            "[%] Downloading Image #19 from https://i.pinimg.com/originals/11/43/c2/1143c20517215ed63260017ee8d4c316.jpg\n",
            "[%] File Downloaded !\n",
            "\n",
            "[%] Downloading Image #20 from https://i.pinimg.com/originals/fa/20/3f/fa203f7c8d9bfa970fa98aa6ea4addf1.jpg\n",
            "[%] File Downloaded !\n",
            "\n",
            "[%] Downloading Image #21 from https://i.pinimg.com/originals/ed/11/35/ed113510e3a70d44bc2e4e5d345e4cc8.jpg\n",
            "[%] File Downloaded !\n",
            "\n",
            "[%] Downloading Image #22 from https://i.pinimg.com/originals/29/4f/6b/294f6b61c4b64e628ea1055f55a41042.jpg\n",
            "[%] File Downloaded !\n",
            "\n",
            "[%] Downloading Image #23 from https://i.pinimg.com/originals/db/91/b4/db91b472092285fc4114ee5c89cdc6d9.jpg\n",
            "[%] File Downloaded !\n",
            "\n",
            "[%] Downloading Image #24 from https://i.pinimg.com/originals/e3/4e/0d/e34e0d0deed4eb4374f0392bf1ad55bd.jpg\n",
            "[%] File Downloaded !\n",
            "\n",
            "[%] Downloading Image #25 from https://i.pinimg.com/originals/dd/8b/bd/dd8bbd1fbffff2161de435283a9fe6d2.jpg\n",
            "[%] File Downloaded !\n",
            "\n",
            "[%] Downloading Image #26 from https://i.pinimg.com/originals/ae/0c/38/ae0c38565109747310b74d53bb4478e0.jpg\n",
            "[%] File Downloaded !\n",
            "\n",
            "[%] Downloading Image #27 from https://i.pinimg.com/originals/6f/b6/3a/6fb63a60e800efcaec3dca230723cf7b.jpg\n",
            "[%] File Downloaded !\n",
            "\n",
            "[%] Downloading Image #28 from https://themysteriousworld.com/wp-content/uploads/2016/08/rose.jpg\n",
            "[Error]Invalid image, not saving https://themysteriousworld.com/wp-content/uploads/2016/08/rose.jpg\n",
            "\n",
            "[!] Issue getting: https://themysteriousworld.com/wp-content/uploads/2016/08/rose.jpg\n",
            "[!] Error:: Invalid image, not saving https://themysteriousworld.com/wp-content/uploads/2016/08/rose.jpg\n",
            "\n",
            "[%] Downloading Image #28 from https://i.pinimg.com/736x/20/3c/68/203c6879e99caac6d3086f61f0cd12d0--roses-roses-pink-roses.jpg\n",
            "[%] File Downloaded !\n",
            "\n",
            "[%] Downloading Image #29 from https://i.pinimg.com/originals/15/a8/8f/15a88f64fde7e35c947eec9fdabaee6d.jpg\n",
            "[%] File Downloaded !\n",
            "\n",
            "\n",
            "\n",
            "[!!]Indexing page: 2\n",
            "\n",
            "[%] Indexed 35 Images on Page 2.\n",
            "\n",
            "===============================================\n",
            "\n",
            "[%] Downloading Image #30 from https://i.pinimg.com/originals/43/75/5c/43755cc23d594b0fa00fed74f6d30839.jpg\n",
            "[%] File Downloaded !\n",
            "\n",
            "\n",
            "\n",
            "[%] Done. Downloaded 30 images.\n",
            "===============================================\n",
            "\n",
            "Please show your support here\n",
            "https://www.buymeacoffee.com/gurugaurav\n",
            "\n",
            "===============================================\n",
            "\n",
            "time: 17.5 s (started: 2021-06-23 14:15:00 +00:00)\n"
          ],
          "name": "stdout"
        }
      ]
    },
    {
      "cell_type": "code",
      "metadata": {
        "colab": {
          "base_uri": "https://localhost:8080/"
        },
        "id": "KhWT3m6fYw4r",
        "outputId": "f6a741cb-7182-4085-bf49-60c7aa3b24d7"
      },
      "source": [
        "downloader.download(\"basketball ball\",limit=30,output_dir='images',adult_filter_off=True)"
      ],
      "execution_count": null,
      "outputs": [
        {
          "output_type": "stream",
          "text": [
            "[%] Downloading Images to /content/images/basketball ball\n",
            "\n",
            "\n",
            "[!!]Indexing page: 1\n",
            "\n",
            "[%] Indexed 30 Images on Page 1.\n",
            "\n",
            "===============================================\n",
            "\n",
            "[%] Downloading Image #1 from http://i.ebayimg.com/images/i/251836984620-0-1/s-l1000.jpg\n",
            "[%] File Downloaded !\n",
            "\n",
            "[%] Downloading Image #2 from https://www.superfanas.lt/application/images/Image/6_KREPSINIO_APR/KAMUOLIAI/20170426/nike-true-grip-basketball-ball-size-7-bb0509-801-1.jpg\n",
            "[%] File Downloaded !\n",
            "\n",
            "[%] Downloading Image #3 from https://cdn.shopify.com/s/files/1/0016/9266/3857/products/PHOTO-2019-04-12-05-23-53_1200x1200.jpg?v=1558654268\n",
            "[%] File Downloaded !\n",
            "\n",
            "[%] Downloading Image #4 from https://cdn.shopify.com/s/files/1/0016/9266/3857/products/PHOTO-2019-04-12-05-23-54_1024x1024@2x.jpg?v=1558654268\n",
            "[%] File Downloaded !\n",
            "\n",
            "[%] Downloading Image #5 from https://mg.co.id/wp-content/uploads/2020/03/true_grip_ot_8p_07-600x600.png\n",
            "[%] File Downloaded !\n",
            "\n",
            "[%] Downloading Image #6 from https://images-na.ssl-images-amazon.com/images/I/81XNa1t%2B-0L._SL1000_.jpg\n",
            "[%] File Downloaded !\n",
            "\n",
            "[%] Downloading Image #7 from https://s3-eu-west-1.amazonaws.com/images.linnlive.com/f8cdeb43a8fbb907a6efe8a78fb17e14/9e1bc3d0-5361-41c5-ae34-37661208801a.jpg\n",
            "[%] File Downloaded !\n",
            "\n",
            "[%] Downloading Image #8 from https://i.ebayimg.com/images/g/lHUAAOSwiJReHcx3/s-l300.jpg\n",
            "[%] File Downloaded !\n",
            "\n",
            "[%] Downloading Image #9 from https://cdn.shopify.com/s/files/1/0016/9266/3857/products/PHOTO-2019-04-12-05-23-52_1024x1024@2x.jpg?v=1558654268\n",
            "[%] File Downloaded !\n",
            "\n",
            "[%] Downloading Image #10 from https://acrossports.s3.amazonaws.com/productPhotos/NIKE/NKI0785507/NKI0785507_2.jpg\n",
            "[%] File Downloaded !\n",
            "\n",
            "[%] Downloading Image #11 from https://n1.sdlcdn.com/imgs/b/x/h/KIPSTA-B500-Basketball-SDL830639244-1-d6dab.jpg\n",
            "[%] File Downloaded !\n",
            "\n",
            "[%] Downloading Image #12 from https://cdn.shopify.com/s/files/1/0016/9266/3857/products/PHOTO-2019-04-12-05-23-56_1024x1024@2x.jpg?v=1558654268\n",
            "[%] File Downloaded !\n",
            "\n",
            "[%] Downloading Image #13 from https://n2.sdlcdn.com/imgs/d/1/u/Cosco-Assorted-Synthetic-Leather-Basketball-SDL244258004-1-9a46c.jpg\n",
            "[%] File Downloaded !\n",
            "\n",
            "[%] Downloading Image #14 from https://theballstore.co.nz/wp-content/uploads/2020/04/BB700-TRUE-Side-1.png\n",
            "[%] File Downloaded !\n",
            "\n",
            "[%] Downloading Image #15 from https://fgl.scene7.com/is/image/FGLSportsLtd/331149822_99_a?wid=800&amp;hei=800&amp;bgColor=0,0,0,0&amp;fmt=png-alpha&amp;resMode=sharp2&amp;op_sharpen=1\n",
            "[%] File Downloaded !\n",
            "\n",
            "[%] Downloading Image #16 from https://www.spalding.com/dw/image/v2/ABAH_PRD/on/demandware.static/-/Sites-masterCatalog_SPALDING/default/dw5541015a/images/hi-res/74875E_1.png?sw=1110&amp;sh=1377&amp;sm=cut\n",
            "[%] File Downloaded !\n",
            "\n",
            "[%] Downloading Image #17 from https://acrossports.s3.amazonaws.com/productPhotos/NIKE/NKI0785507/NKI0785507_7.jpg\n",
            "[%] File Downloaded !\n",
            "\n",
            "[%] Downloading Image #18 from https://n3.sdlcdn.com/imgs/a/s/p/Nivia-True-Orange-Bb-182-SDL154408703-1-64aef.jpg\n",
            "[%] File Downloaded !\n",
            "\n",
            "[%] Downloading Image #19 from https://n2.sdlcdn.com/imgs/h/r/p/Spalding-7-Leather-Basketball-SDL473563007-1-10121.jpeg\n",
            "[%] File Downloaded !\n",
            "\n",
            "[%] Downloading Image #20 from https://images-eu.ssl-images-amazon.com/images/I/61-MmwH%2BmPL._SY300_QL70_.jpg\n",
            "[%] File Downloaded !\n",
            "\n",
            "[%] Downloading Image #21 from https://i.ytimg.com/vi/JLnf_COFn9I/maxresdefault.jpg\n",
            "[%] File Downloaded !\n",
            "\n",
            "[%] Downloading Image #22 from https://images.pristineauction.com/102/1022338/main_1538000978-Trae-Young-Signed-NBA-Game-Ball-Series-Basketball-Inscribed-True-To-ATL-Panini-COA-PristineAuction.com.jpg\n",
            "[%] File Downloaded !\n",
            "\n",
            "[%] Downloading Image #23 from https://s7d2.scene7.com/is/image/dkscdn/16NIKUNKTRGRPTFFCBKB_is/\n",
            "[%] File Downloaded !\n",
            "\n",
            "[%] Downloading Image #24 from https://i.ebayimg.com/images/g/vlAAAOSwTmpcbLv7/s-l400.jpg\n",
            "[%] File Downloaded !\n",
            "\n",
            "[%] Downloading Image #25 from https://i.ebayimg.com/images/g/6zIAAOSwcJZdWzM-/s-l400.jpg\n",
            "[%] File Downloaded !\n",
            "\n",
            "[%] Downloading Image #26 from https://rukminim1.flixcart.com/image/1664/1664/ball/m/8/9/bb-196-nivia-basketball-true-orange-original-imadzdaz6uxv2kjp.jpeg?q=90\n",
            "[%] File Downloaded !\n",
            "\n",
            "[%] Downloading Image #27 from https://i.ebayimg.com/00/s/MTIwMFgxMTkw/z/DQcAAOSwLABd7zlT/$_57.JPG\n",
            "[%] File Downloaded !\n",
            "\n",
            "[%] Downloading Image #28 from http://www.hawksportsgoods.com/images/basketball/balls/BB-196-True-Orange.jpg\n",
            "[%] File Downloaded !\n",
            "\n",
            "[%] Downloading Image #29 from https://i.ebayimg.com/images/g/zicAAOSwgmBfuphT/s-l300.jpg\n",
            "[%] File Downloaded !\n",
            "\n",
            "[%] Downloading Image #30 from https://www.victeamsports.com/wp-content/uploads/2019/05/Deflated-Basketball-Ball.jpg\n",
            "[%] File Downloaded !\n",
            "\n",
            "\n",
            "\n",
            "[%] Done. Downloaded 30 images.\n",
            "===============================================\n",
            "\n",
            "Please show your support here\n",
            "https://www.buymeacoffee.com/gurugaurav\n",
            "\n",
            "===============================================\n",
            "\n",
            "time: 29.4 s (started: 2021-06-23 14:15:29 +00:00)\n"
          ],
          "name": "stdout"
        }
      ]
    },
    {
      "cell_type": "code",
      "metadata": {
        "colab": {
          "base_uri": "https://localhost:8080/"
        },
        "id": "JCxhmCFwZNIt",
        "outputId": "702663f8-8e52-4b19-d5e3-bddef24aaa27"
      },
      "source": [
        "downloader.download(\"t shirts designs\",limit=30,output_dir='images',adult_filter_off=True)"
      ],
      "execution_count": null,
      "outputs": [
        {
          "output_type": "stream",
          "text": [
            "[%] Downloading Images to /content/images/t shirts designs\n",
            "\n",
            "\n",
            "[!!]Indexing page: 1\n",
            "\n",
            "[%] Indexed 30 Images on Page 1.\n",
            "\n",
            "===============================================\n",
            "\n",
            "[%] Downloading Image #1 from https://cdnc.lystit.com/photos/5f37-2016/03/05/true-religion-jet-black-mens-starter-graphic-print-logo-t-shirt-black-product-0-881508539-normal.jpeg\n",
            "[%] File Downloaded !\n",
            "\n",
            "[%] Downloading Image #2 from https://cdn.shopify.com/s/files/1/0049/3626/9898/products/5ed8944322ea2c343ca2d2c65da6a292.jpg?v=1564571590\n",
            "[%] File Downloaded !\n",
            "\n",
            "[%] Downloading Image #3 from https://cdna.lystit.com/photos/1df1-2014/12/24/true-religion-silver-hand-picked-classic-logo-deep-v-neck-crystal-womens-t-shirt-product-1-26685793-1-848490379-normal.jpeg\n",
            "[%] File Downloaded !\n",
            "\n",
            "[%] Downloading Image #4 from https://cdna.lystit.com/photos/d789-2015/01/26/true-religion-red-baseball-stitch-mens-t-shirt-product-1-27349339-0-632302380-normal.jpeg\n",
            "[%] File Downloaded !\n",
            "\n",
            "[%] Downloading Image #5 from https://cdna.lystit.com/photos/39a3-2013/12/12/true-religion-blue-traditional-logo-t-shirt-product-1-15944987-0-476031533-normal.jpeg\n",
            "[%] File Downloaded !\n",
            "\n",
            "[%] Downloading Image #6 from https://www.julesb.com.au/images/products/1564738714-97213600.jpg\n",
            "[%] File Downloaded !\n",
            "\n",
            "[%] Downloading Image #7 from https://cdna.lystit.com/photos/neimanmarcus/194910520-BLACK-be8cd95a-.jpeg\n",
            "[%] File Downloaded !\n",
            "\n",
            "[%] Downloading Image #8 from https://www.repertoirefashion.co.uk/images/true-religion-jeans-mens-foil-logo-t-shirt-short-sleeve-black-tee-p30903-113952_image.jpg\n",
            "[%] File Downloaded !\n",
            "\n",
            "[%] Downloading Image #9 from http://cdnc.lystit.com/photos/2013/11/02/true-religion-blue-us-buddha-t-shirt-rugby-product-1-14659857-550558814.jpeg\n",
            "[%] File Downloaded !\n",
            "\n",
            "[%] Downloading Image #10 from https://cdnc.lystit.com/photos/macys/2735811-Ruby%20Red-7a85dd07-.jpeg\n",
            "[%] File Downloaded !\n",
            "\n",
            "[%] Downloading Image #11 from https://ae01.alicdn.com/kf/HTB1dJkDiFuWBuNjSszbq6AS7FXat/Cool-Tee-Shirt-Designs-Short-Sleeve-Men-Cotton-Crew-Neck-Against-Me-True-Trans-Shirts.jpg\n",
            "[%] File Downloaded !\n",
            "\n",
            "[%] Downloading Image #12 from https://tshirt-factory.com/images/detailed/17/Stay-True-To-Your-Root-Tee-shirt-design-17202.jpg\n",
            "[%] File Downloaded !\n",
            "\n",
            "[%] Downloading Image #13 from https://i.pinimg.com/originals/b0/a3/31/b0a331c413f252210df34dcecfc67958.jpg\n",
            "[%] File Downloaded !\n",
            "\n",
            "[%] Downloading Image #14 from https://cdn-images-1.medium.com/max/1600/0*7oZhtRWKT3CeL4Hr.jpg\n",
            "[Error]Invalid image, not saving https://cdn-images-1.medium.com/max/1600/0*7oZhtRWKT3CeL4Hr.jpg\n",
            "\n",
            "[!] Issue getting: https://cdn-images-1.medium.com/max/1600/0*7oZhtRWKT3CeL4Hr.jpg\n",
            "[!] Error:: Invalid image, not saving https://cdn-images-1.medium.com/max/1600/0*7oZhtRWKT3CeL4Hr.jpg\n",
            "\n",
            "[%] Downloading Image #14 from http://cdnd.lystit.com/photos/d453-2014/02/22/true-religion-white-logo-plain-t-shirt-product-1-17913172-2-179167684-normal.jpeg\n",
            "[%] File Downloaded !\n",
            "\n",
            "[%] Downloading Image #15 from https://www.brother2brother.co.uk/images/true-religion-white-dragon-logo-t-shirt-p11477-26761_image.jpg\n",
            "[%] File Downloaded !\n",
            "\n",
            "[%] Downloading Image #16 from https://www.chameleonmenswear.co.uk/images/true-religion-buddha-t-shirt-p24095-54692_image.jpg\n",
            "[%] File Downloaded !\n",
            "\n",
            "[%] Downloading Image #17 from https://www.brother2brother.co.uk/images/true-religion-white-star-logo-t-shirt-p11178-25992_image.jpg\n",
            "[%] File Downloaded !\n",
            "\n",
            "[%] Downloading Image #18 from https://tshirt-factory.com/images/detailed/48/True-Blood-TShirt-Design-Custom-t-shirts-48411.jpg\n",
            "[%] File Downloaded !\n",
            "\n",
            "[%] Downloading Image #19 from https://images.houseoffraser.co.uk/images/imgzoom/60/60221803_xxl.jpg\n",
            "[%] File Downloaded !\n",
            "\n",
            "[%] Downloading Image #20 from https://www.repertoirefashion.co.uk/images/true-religion-jeans-mens-true-religion-california-usa-t-shirt-crew-neck-dusty-olive-tee-p30902-111646_image.jpg\n",
            "[%] File Downloaded !\n",
            "\n",
            "[%] Downloading Image #21 from http://www.themenswearsite.com/images/products/zoom/1412157598-26917100.jpg\n",
            "[%] File Downloaded !\n",
            "\n",
            "[%] Downloading Image #22 from https://ih1.redbubble.net/image.489027943.7711/gpt,mens,750x1000,black,small-pad,750x1000,f8f8f8.u2.jpg\n",
            "[%] File Downloaded !\n",
            "\n",
            "[%] Downloading Image #23 from https://www.julesb.com/images/products/1426516581-48462300.jpg\n",
            "[%] File Downloaded !\n",
            "\n",
            "[%] Downloading Image #24 from https://ministrygear.s3.amazonaws.com/live/wp-content/uploads/sites/6/2015/01/03121831/15410-vbs-2015-True-North.jpg\n",
            "[%] File Downloaded !\n",
            "\n",
            "[%] Downloading Image #25 from https://ae01.alicdn.com/kf/HTB1Cl0UQVXXXXb.XVXXq6xXFXXXS/Sookie-Is-Mine-True-Blood-T-shirt-T-Shirts-Man-Clothing-Free-Shipping-Top-Tee-Fashion.jpg\n",
            "[%] File Downloaded !\n",
            "\n",
            "[%] Downloading Image #26 from http://www.jonathantrumbull.co.uk/images/true-religion-white-buddha-world-tour-design-t-shirt-p35454-35814_medium.jpg\n",
            "[%] File Downloaded !\n",
            "\n",
            "[%] Downloading Image #27 from https://www.buytshirtdesigns.net/wp-content/uploads/2018/01/Stay-True-Mockup.jpg\n",
            "[%] File Downloaded !\n",
            "\n",
            "[%] Downloading Image #28 from https://images-platform.99static.com/KtHrXIuJn5qUEKAYGvhjpjBiVIg=/0x227:803x1030/500x500/top/smart/99designs-contests-attachments/96/96669/attachment_96669626\n",
            "[%] File Downloaded !\n",
            "\n",
            "[%] Downloading Image #29 from https://cdna.lystit.com/photos/7399-2013/12/13/true-religion-red-traditional-logo-t-shirt-product-1-14652165-0-965046736-normal.jpeg\n",
            "[%] File Downloaded !\n",
            "\n",
            "\n",
            "\n",
            "[!!]Indexing page: 2\n",
            "\n",
            "[%] Indexed 35 Images on Page 2.\n",
            "\n",
            "===============================================\n",
            "\n",
            "[%] Downloading Image #30 from https://cdnc.lystit.com/photos/5f37-2016/03/05/true-religion-jet-black-mens-starter-graphic-print-logo-t-shirt-black-product-0-881508539-normal.jpeg\n",
            "[%] File Downloaded !\n",
            "\n",
            "\n",
            "\n",
            "[%] Done. Downloaded 30 images.\n",
            "===============================================\n",
            "\n",
            "Please show your support here\n",
            "https://www.buymeacoffee.com/gurugaurav\n",
            "\n",
            "===============================================\n",
            "\n",
            "time: 41.8 s (started: 2021-06-23 14:16:14 +00:00)\n"
          ],
          "name": "stdout"
        }
      ]
    },
    {
      "cell_type": "code",
      "metadata": {
        "colab": {
          "base_uri": "https://localhost:8080/"
        },
        "id": "vPV-Quz8clQS",
        "outputId": "76ac796d-0148-4328-a98a-9a0b6367045c"
      },
      "source": [
        "import numpy as np\n",
        "\n",
        "a=np.array([[1,2,3,4,5],\n",
        "           [4,5,6,7,8]])\n",
        "a.ndim"
      ],
      "execution_count": null,
      "outputs": [
        {
          "output_type": "execute_result",
          "data": {
            "text/plain": [
              "2"
            ]
          },
          "metadata": {
            "tags": []
          },
          "execution_count": 7
        },
        {
          "output_type": "stream",
          "text": [
            "time: 10.9 ms (started: 2021-06-23 14:17:50 +00:00)\n"
          ],
          "name": "stdout"
        }
      ]
    },
    {
      "cell_type": "code",
      "metadata": {
        "colab": {
          "base_uri": "https://localhost:8080/"
        },
        "id": "sjrbfZyYdGeU",
        "outputId": "6f0744f9-232f-4c7a-c116-06d4fb86ef9c"
      },
      "source": [
        "a.flatten()"
      ],
      "execution_count": null,
      "outputs": [
        {
          "output_type": "execute_result",
          "data": {
            "text/plain": [
              "array([1, 2, 3, 4, 5, 4, 5, 6, 7, 8])"
            ]
          },
          "metadata": {
            "tags": []
          },
          "execution_count": 8
        },
        {
          "output_type": "stream",
          "text": [
            "time: 8.42 ms (started: 2021-06-23 14:17:54 +00:00)\n"
          ],
          "name": "stdout"
        }
      ]
    },
    {
      "cell_type": "code",
      "metadata": {
        "colab": {
          "base_uri": "https://localhost:8080/",
          "height": 287
        },
        "id": "pBirWKLqb2bu",
        "outputId": "85ca7f2d-086e-4bdc-bad0-27629157f59c"
      },
      "source": [
        "import os\n",
        "import matplotlib.pyplot as plt\n",
        "import numpy as np\n",
        "from skimage.io import imread\n",
        "from skimage.transform import resize\n",
        "\n",
        "target= []\n",
        "images= []\n",
        "flat_data= []\n",
        "\n",
        "DATADIR ='/content/images'\n",
        "CATEGORIES=['pretty roses','basketball ball','t shirts designs']\n",
        "\n",
        "for category in CATEGORIES:\n",
        "  class_num= CATEGORIES.index(category)  #LABEL encoding the values\n",
        "  path = os.path.join(DATADIR,category)  #Create path to use all the images\n",
        "  for img in os.listdir(path):\n",
        "    img_array = imread(os.path.join(path,img))\n",
        "    #print(img_array.shape)\n",
        "    plt.imshow(img_array)\n",
        "    img_resized= resize(img_array,(150,150,3)) #normalises tha values from0 to 1\n",
        "    img_resized.flatten()\n",
        "    flat_data.append(img_resized.flatten())\n",
        "    target.append(class_num)\n",
        "\n",
        "flat_data= np.array(flat_data)\n",
        "target =np.array(target)\n",
        "images= np.array(images)    "
      ],
      "execution_count": null,
      "outputs": [
        {
          "output_type": "display_data",
          "data": {
            "image/png": "[encoded data removed]",
            "text/plain": [
              "<Figure size 432x288 with 1 Axes>"
            ]
          },
          "metadata": {
            "tags": [],
            "needs_background": "light"
          }
        },
        {
          "output_type": "stream",
          "text": [
            "time: 40.1 s (started: 2021-06-23 14:17:56 +00:00)\n"
          ],
          "name": "stdout"
        }
      ]
    },
    {
      "cell_type": "code",
      "metadata": {
        "colab": {
          "base_uri": "https://localhost:8080/"
        },
        "id": "-Tt0DMf03nXt",
        "outputId": "9efb508a-39da-4fb8-87be-28aadcdcd5a9"
      },
      "source": [
        "len(flat_data[0])"
      ],
      "execution_count": null,
      "outputs": [
        {
          "output_type": "execute_result",
          "data": {
            "text/plain": [
              "67500"
            ]
          },
          "metadata": {
            "tags": []
          },
          "execution_count": 11
        },
        {
          "output_type": "stream",
          "text": [
            "time: 6.83 ms (started: 2021-06-23 14:22:58 +00:00)\n"
          ],
          "name": "stdout"
        }
      ]
    },
    {
      "cell_type": "code",
      "metadata": {
        "colab": {
          "base_uri": "https://localhost:8080/"
        },
        "id": "KtrwimHB4C29",
        "outputId": "6742cd5f-cbc1-49de-8b71-abef96398361"
      },
      "source": [
        "150*150*30"
      ],
      "execution_count": null,
      "outputs": [
        {
          "output_type": "execute_result",
          "data": {
            "text/plain": [
              "675000"
            ]
          },
          "metadata": {
            "tags": []
          },
          "execution_count": 12
        },
        {
          "output_type": "stream",
          "text": [
            "time: 5.69 ms (started: 2021-06-23 14:23:01 +00:00)\n"
          ],
          "name": "stdout"
        }
      ]
    },
    {
      "cell_type": "code",
      "metadata": {
        "colab": {
          "base_uri": "https://localhost:8080/"
        },
        "id": "OaOKqcJF4Kep",
        "outputId": "761eef73-82e3-4e31-ccd6-2f5258d6069e"
      },
      "source": [
        "target"
      ],
      "execution_count": null,
      "outputs": [
        {
          "output_type": "execute_result",
          "data": {
            "text/plain": [
              "array([0, 0, 0, 0, 0, 0, 0, 0, 0, 0, 0, 0, 0, 0, 0, 0, 0, 0, 0, 0, 0, 0,\n",
              "       0, 0, 0, 0, 0, 0, 0, 0, 1, 1, 1, 1, 1, 1, 1, 1, 1, 1, 1, 1, 1, 1,\n",
              "       1, 1, 1, 1, 1, 1, 1, 1, 1, 1, 1, 1, 1, 1, 1, 1, 2, 2, 2, 2, 2, 2,\n",
              "       2, 2, 2, 2, 2, 2, 2, 2, 2, 2, 2, 2, 2, 2, 2, 2, 2, 2, 2, 2, 2, 2,\n",
              "       2, 2])"
            ]
          },
          "metadata": {
            "tags": []
          },
          "execution_count": 13
        },
        {
          "output_type": "stream",
          "text": [
            "time: 5.63 ms (started: 2021-06-23 14:23:04 +00:00)\n"
          ],
          "name": "stdout"
        }
      ]
    },
    {
      "cell_type": "code",
      "metadata": {
        "colab": {
          "base_uri": "https://localhost:8080/",
          "height": 300
        },
        "id": "4nwJq0Ln4STG",
        "outputId": "a97a0d8f-82a8-46c3-ef2d-37ce20a35bd6"
      },
      "source": [
        "unique,count= np.unique(target,return_counts=True)\n",
        "plt.bar(CATEGORIES,count)"
      ],
      "execution_count": null,
      "outputs": [
        {
          "output_type": "execute_result",
          "data": {
            "text/plain": [
              "<BarContainer object of 3 artists>"
            ]
          },
          "metadata": {
            "tags": []
          },
          "execution_count": 14
        },
        {
          "output_type": "display_data",
          "data": {
            "image/png": "[encoded data removed]",
            "text/plain": [
              "<Figure size 432x288 with 1 Axes>"
            ]
          },
          "metadata": {
            "tags": [],
            "needs_background": "light"
          }
        },
        {
          "output_type": "stream",
          "text": [
            "time: 146 ms (started: 2021-06-23 14:23:35 +00:00)\n"
          ],
          "name": "stdout"
        }
      ]
    },
    {
      "cell_type": "code",
      "metadata": {
        "colab": {
          "base_uri": "https://localhost:8080/"
        },
        "id": "-5yiyzMs487a",
        "outputId": "3fdd2327-77f1-4e6b-90df-487f95934aac"
      },
      "source": [
        "\n",
        "from sklearn.model_selection import train_test_split\n",
        "x_train,x_test,y_train,y_test = train_test_split(flat_data,target,\n",
        "                                  test_size=0.3,random_state=109)\n"
      ],
      "execution_count": null,
      "outputs": [
        {
          "output_type": "stream",
          "text": [
            "time: 317 ms (started: 2021-06-23 14:23:39 +00:00)\n"
          ],
          "name": "stdout"
        }
      ]
    },
    {
      "cell_type": "code",
      "metadata": {
        "colab": {
          "base_uri": "https://localhost:8080/"
        },
        "id": "hROwJFwW7qUS",
        "outputId": "a2153a7b-0d08-4aff-85a6-3e3b033826be"
      },
      "source": [
        "from sklearn.model_selection import GridSearchCV\n",
        "from sklearn import svm\n",
        "param_grid = [\n",
        "              {'C':[1,10,100,1000],'kernel':['linear']},\n",
        "              {'C':[1,10,100,1000],'gamma':[0.001,0.0001],'kernel':['rbf']},\n",
        "]\n",
        "\n",
        "svc= svm.SVC(probability=True)\n",
        "clf= GridSearchCV(svc,param_grid)\n",
        "clf.fit(x_train,y_train)"
      ],
      "execution_count": null,
      "outputs": [
        {
          "output_type": "execute_result",
          "data": {
            "text/plain": [
              "GridSearchCV(cv=None, error_score=nan,\n",
              "             estimator=SVC(C=1.0, break_ties=False, cache_size=200,\n",
              "                           class_weight=None, coef0=0.0,\n",
              "                           decision_function_shape='ovr', degree=3,\n",
              "                           gamma='scale', kernel='rbf', max_iter=-1,\n",
              "                           probability=True, random_state=None, shrinking=True,\n",
              "                           tol=0.001, verbose=False),\n",
              "             iid='deprecated', n_jobs=None,\n",
              "             param_grid=[{'C': [1, 10, 100, 1000], 'kernel': ['linear']},\n",
              "                         {'C': [1, 10, 100, 1000], 'gamma': [0.001, 0.0001],\n",
              "                          'kernel': ['rbf']}],\n",
              "             pre_dispatch='2*n_jobs', refit=True, return_train_score=False,\n",
              "             scoring=None, verbose=0)"
            ]
          },
          "metadata": {
            "tags": []
          },
          "execution_count": 16
        },
        {
          "output_type": "stream",
          "text": [
            "time: 1min 43s (started: 2021-06-23 14:23:42 +00:00)\n"
          ],
          "name": "stdout"
        }
      ]
    },
    {
      "cell_type": "code",
      "metadata": {
        "colab": {
          "base_uri": "https://localhost:8080/"
        },
        "id": "RwHQD5jf-vTz",
        "outputId": "df8ca90c-3f09-4c45-d5c0-23454cb4efcc"
      },
      "source": [
        "y_pred = clf.predict(x_test)\n",
        "y_pred"
      ],
      "execution_count": null,
      "outputs": [
        {
          "output_type": "execute_result",
          "data": {
            "text/plain": [
              "array([1, 1, 1, 2, 2, 2, 0, 1, 1, 0, 1, 0, 1, 2, 1, 1, 2, 1, 1, 1, 2, 2,\n",
              "       2, 0, 0, 0, 1])"
            ]
          },
          "metadata": {
            "tags": []
          },
          "execution_count": 17
        },
        {
          "output_type": "stream",
          "text": [
            "time: 124 ms (started: 2021-06-23 14:25:30 +00:00)\n"
          ],
          "name": "stdout"
        }
      ]
    },
    {
      "cell_type": "code",
      "metadata": {
        "colab": {
          "base_uri": "https://localhost:8080/"
        },
        "id": "z05cPMdzBYyh",
        "outputId": "0bd3f301-98b5-4912-abf9-7ba079a652cd"
      },
      "source": [
        "y_test"
      ],
      "execution_count": null,
      "outputs": [
        {
          "output_type": "execute_result",
          "data": {
            "text/plain": [
              "array([1, 0, 1, 2, 2, 1, 0, 1, 1, 0, 1, 0, 1, 2, 2, 1, 2, 1, 0, 1, 2, 2,\n",
              "       2, 0, 0, 0, 1])"
            ]
          },
          "metadata": {
            "tags": []
          },
          "execution_count": 18
        },
        {
          "output_type": "stream",
          "text": [
            "time: 4.76 ms (started: 2021-06-23 14:25:46 +00:00)\n"
          ],
          "name": "stdout"
        }
      ]
    },
    {
      "cell_type": "code",
      "metadata": {
        "colab": {
          "base_uri": "https://localhost:8080/"
        },
        "id": "JiPTCENmBksc",
        "outputId": "9f204d49-aa73-4398-fbcd-116ec98a540d"
      },
      "source": [
        "from sklearn.metrics import accuracy_score,confusion_matrix\n",
        "accuracy_score(y_pred,y_test)"
      ],
      "execution_count": null,
      "outputs": [
        {
          "output_type": "execute_result",
          "data": {
            "text/plain": [
              "0.8518518518518519"
            ]
          },
          "metadata": {
            "tags": []
          },
          "execution_count": 19
        },
        {
          "output_type": "stream",
          "text": [
            "time: 7.42 ms (started: 2021-06-23 14:25:48 +00:00)\n"
          ],
          "name": "stdout"
        }
      ]
    },
    {
      "cell_type": "code",
      "metadata": {
        "colab": {
          "base_uri": "https://localhost:8080/"
        },
        "id": "xmeCKQJXCMgR",
        "outputId": "6f025be9-eece-4520-e5ac-419ac9f755b5"
      },
      "source": [
        "confusion_matrix(y_pred,y_test)"
      ],
      "execution_count": null,
      "outputs": [
        {
          "output_type": "execute_result",
          "data": {
            "text/plain": [
              "array([[ 6,  0,  0],\n",
              "       [ 2, 10,  1],\n",
              "       [ 0,  1,  7]])"
            ]
          },
          "metadata": {
            "tags": []
          },
          "execution_count": 20
        },
        {
          "output_type": "stream",
          "text": [
            "time: 8.82 ms (started: 2021-06-23 14:25:52 +00:00)\n"
          ],
          "name": "stdout"
        }
      ]
    },
    {
      "cell_type": "code",
      "metadata": {
        "colab": {
          "base_uri": "https://localhost:8080/"
        },
        "id": "bi5bfVKLDAc1",
        "outputId": "b9a51069-bed6-4fe2-a2d3-5a1cab9f94e4"
      },
      "source": [
        "# Save the model using pickle library\n",
        "import pickle\n",
        "pickle.dump(clf,open('img_model.p','wb'))"
      ],
      "execution_count": null,
      "outputs": [
        {
          "output_type": "stream",
          "text": [
            "time: 37.2 ms (started: 2021-06-23 14:25:55 +00:00)\n"
          ],
          "name": "stdout"
        }
      ]
    },
    {
      "cell_type": "code",
      "metadata": {
        "colab": {
          "base_uri": "https://localhost:8080/"
        },
        "id": "mz4vEQIIVRJU",
        "outputId": "bfcae2e2-4b34-4cf7-ec65-e90c3e9fdaaf"
      },
      "source": [
        "model= pickle.load(open('img_model.p','rb'))"
      ],
      "execution_count": null,
      "outputs": [
        {
          "output_type": "stream",
          "text": [
            "time: 18.7 ms (started: 2021-06-23 14:25:57 +00:00)\n"
          ],
          "name": "stdout"
        }
      ]
    },
    {
      "cell_type": "code",
      "metadata": {
        "id": "8EwkDaFgVlJH",
        "colab": {
          "base_uri": "https://localhost:8080/",
          "height": 359
        },
        "outputId": "bfb96d20-022f-4c67-9a5a-9da33ab04420"
      },
      "source": [
        "# Testing a brand new image\n",
        "flat_data = []\n",
        "url = input('Enter your URL')\n",
        "img = imread(url)\n",
        "\n",
        "img_resized = resize(img,(150,150,3))\n",
        "flat_data.append(img_resized.flatten())\n",
        "flat_data = np.array(flat_data)\n",
        "print(img.shape)\n",
        "plt.imshow(img_resized)\n",
        "y_out = model.predict(flat_data)\n",
        "y_out = CATEGORIES[y_out[0]]\n",
        "print(f' PREDICTED OUTPUT: {y_out}')"
      ],
      "execution_count": null,
      "outputs": [
        {
          "output_type": "stream",
          "text": [
            "Enter your URLhttps://lp2.hm.com/hmgoepprod?set=quality%5B79%5D%2Csource%5B%2F08%2Fba%2F08ba5cdc2035365380ed660b024af1be036d6d82.jpg%5D%2Corigin%5Bdam%5D%2Ccategory%5Bmen_tshirtstanks_bestbasics%5D%2Ctype%5BDESCRIPTIVESTILLLIFE%5D%2Cres%5Bm%5D%2Chmver%5B2%5D&call=url[file:/product/main]\n",
            "(1152, 768, 3)\n",
            " PREDICTED OUTPUT: t shirts designs\n"
          ],
          "name": "stdout"
        },
        {
          "output_type": "display_data",
          "data": {
            "image/png": "[encoded data removed]",
            "text/plain": [
              "<Figure size 432x288 with 1 Axes>"
            ]
          },
          "metadata": {
            "tags": [],
            "needs_background": "light"
          }
        },
        {
          "output_type": "stream",
          "text": [
            "time: 4.45 s (started: 2021-06-23 14:27:39 +00:00)\n"
          ],
          "name": "stdout"
        }
      ]
    },
    {
      "cell_type": "code",
      "metadata": {
        "id": "s3vOiDTAbksc"
      },
      "source": [
        ""
      ],
      "execution_count": null,
      "outputs": []
    }
  ]
}